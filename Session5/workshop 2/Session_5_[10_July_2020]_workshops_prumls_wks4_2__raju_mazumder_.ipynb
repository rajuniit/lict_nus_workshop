{
  "nbformat": 4,
  "nbformat_minor": 0,
  "metadata": {
    "colab": {
      "name": "Session 5 -[10 July 2020]\\workshops\\prumls-wks4-2-_yourname_.ipynb",
      "provenance": [],
      "collapsed_sections": [],
      "toc_visible": true
    },
    "kernelspec": {
      "name": "python3",
      "display_name": "Python 3"
    },
    "accelerator": "TPU"
  },
  "cells": [
    {
      "cell_type": "markdown",
      "metadata": {
        "id": "CRNVzhoo1clG",
        "colab_type": "text"
      },
      "source": [
        "## **1. Mount google drive**\n",
        "---"
      ]
    },
    {
      "cell_type": "code",
      "metadata": {
        "id": "5W39GXyk1hME",
        "colab_type": "code",
        "colab": {}
      },
      "source": [
        "from google.colab import drive\n",
        "drive.mount('/content/gdrive')"
      ],
      "execution_count": null,
      "outputs": []
    },
    {
      "cell_type": "markdown",
      "metadata": {
        "id": "dOQ-2xS_MYHi",
        "colab_type": "text"
      },
      "source": [
        "## **2. Import the necessary libraries**\n",
        "---"
      ]
    },
    {
      "cell_type": "code",
      "metadata": {
        "id": "yoi4gWDELtek",
        "colab_type": "code",
        "colab": {
          "base_uri": "https://localhost:8080/",
          "height": 119
        },
        "outputId": "37ef3d5a-dcee-4d38-c621-60e4398c9150"
      },
      "source": [
        "import matplotlib\n",
        "import sklearn\n",
        "import numpy as np\n",
        "import pandas as pd\n",
        "import sklearn.metrics as metrics\n",
        "import matplotlib.pyplot as plt\n",
        "import tensorflow as tf\n",
        "\n",
        "\n",
        "from tensorflow.keras.callbacks import ModelCheckpoint,CSVLogger,LearningRateScheduler\n",
        "from tensorflow.keras.models import Model\n",
        "from tensorflow.keras.layers import Input\n",
        "from tensorflow.keras.layers import Dense\n",
        "from tensorflow.keras.layers import Flatten\n",
        "from tensorflow.keras.layers import Conv2D\n",
        "from tensorflow.keras.layers import BatchNormalization\n",
        "from tensorflow.keras.layers import Activation\n",
        "from tensorflow.keras.layers import AveragePooling2D\n",
        "from tensorflow.keras.layers import add\n",
        "from tensorflow.keras.regularizers import l2\n",
        "from tensorflow.keras.utils import to_categorical\n",
        "from tensorflow.keras.datasets import cifar10\n",
        "from tensorflow.keras import optimizers\n",
        "from tensorflow.keras.preprocessing.image import ImageDataGenerator\n",
        "from tensorflow.keras.utils import plot_model\n",
        "\n",
        "print(\"Versions of key libraries\")\n",
        "print(\"---\")\n",
        "print(\"tensorflow: \", tf.__version__)\n",
        "print(\"numpy:      \", np.__version__)\n",
        "print(\"matplotlib: \", matplotlib.__version__)\n",
        "print(\"sklearn:    \", sklearn.__version__)"
      ],
      "execution_count": 2,
      "outputs": [
        {
          "output_type": "stream",
          "text": [
            "Versions of key libraries\n",
            "---\n",
            "tensorflow:  2.2.0\n",
            "numpy:       1.18.5\n",
            "matplotlib:  3.2.2\n",
            "sklearn:     0.22.2.post1\n"
          ],
          "name": "stdout"
        }
      ]
    },
    {
      "cell_type": "markdown",
      "metadata": {
        "id": "0amhwjZ4M2m-",
        "colab_type": "text"
      },
      "source": [
        "## **3.Create a function to plot image without axis**\n",
        "---"
      ]
    },
    {
      "cell_type": "code",
      "metadata": {
        "id": "OFxsBB1mNXl2",
        "colab_type": "code",
        "colab": {
          "base_uri": "https://localhost:8080/",
          "height": 34
        },
        "outputId": "77549561-6441-41a3-ead5-e7e1058b5645"
      },
      "source": [
        "def implt(img):\n",
        "    plt.figure()\n",
        "    plt.imshow(img)\n",
        "    plt.axis('off')\n",
        "\n",
        "print(implt)"
      ],
      "execution_count": 3,
      "outputs": [
        {
          "output_type": "stream",
          "text": [
            "<function implt at 0x7fd83c794730>\n"
          ],
          "name": "stdout"
        }
      ]
    },
    {
      "cell_type": "markdown",
      "metadata": {
        "id": "X3N41iixORPz",
        "colab_type": "text"
      },
      "source": [
        "## **4. Set matplotlib to have seaborn plot style**\n",
        "---"
      ]
    },
    {
      "cell_type": "code",
      "metadata": {
        "id": "OyO5OsUrOYNQ",
        "colab_type": "code",
        "colab": {
          "base_uri": "https://localhost:8080/",
          "height": 34
        },
        "outputId": "89c0cd38-e496-4420-c481-127f9c566ebd"
      },
      "source": [
        "plt.style.use('seaborn')                   # if want to use the default style, set 'classic'\n",
        "plt.rcParams['ytick.right']     = True\n",
        "plt.rcParams['ytick.labelright']= True\n",
        "plt.rcParams['ytick.left']      = False\n",
        "plt.rcParams['ytick.labelleft'] = False\n",
        "plt.rcParams['figure.figsize']  = [7,7]   # Set the figure size to be 7 inch for (width,height)\n",
        "\n",
        "print(\"Matplotlib setup completes.\")"
      ],
      "execution_count": 4,
      "outputs": [
        {
          "output_type": "stream",
          "text": [
            "Matplotlib setup completes.\n"
          ],
          "name": "stdout"
        }
      ]
    },
    {
      "cell_type": "markdown",
      "metadata": {
        "id": "5w2jAiKZOmgP",
        "colab_type": "text"
      },
      "source": [
        "## **5. Prepare Cifar10 data for training and testing**\n",
        "---\n",
        "* Step 1: Load the cifar10 \n",
        "* Step 2: Check the shape and type of the data\n",
        "* Step 3: Convert the data into float32 and rescale the values from the range of 0\\~255 into 0\\~1\n",
        "* Step 4: Retrieve the row size and the column size of each image\n",
        "* Step 5: Perform one-hot enconding on the labels\n",
        "* Step 6: Retrieve the number of classes in this problem"
      ]
    },
    {
      "cell_type": "code",
      "metadata": {
        "id": "v3Ad2V0pO1TX",
        "colab_type": "code",
        "colab": {
          "base_uri": "https://localhost:8080/",
          "height": 136
        },
        "outputId": "8bafbe17-d77d-467b-af4b-d3ead8003924"
      },
      "source": [
        "                                                                                # Step 1\n",
        "data            = cifar10.load_data()\n",
        "(trDat, trLbl)  = data[0]\n",
        "(tsDat, tsLbl)  = data[1]\n",
        "\n",
        "                                                                                # Step 2\n",
        "print(\"The shape of trDat is\", trDat.shape, \"and the type of trDat is\", trDat.dtype)\n",
        "print(\"The shape of tsDat is\", tsDat.shape, \"and the type of tsDat is\", tsDat.dtype)\n",
        "print(\"\")\n",
        "print(\"The shape of trLbl is\", trLbl.shape, \"and the type of trLbl is\", trLbl.dtype)\n",
        "print(\"The shape of tsLbl is\", tsLbl.shape, \"and the type of tsLbl is\", tsLbl.dtype)\n",
        "\n",
        "                                                                                # Step 3\n",
        "trDat           = trDat.astype('float32')/255\n",
        "tsDat           = tsDat.astype('float32')/255\n",
        "\n",
        "                                                                                # Step 4\n",
        "imgrows         = trDat.shape[1]\n",
        "imgclms         = trDat.shape[2]\n",
        "channel         = trDat.shape[3]\n",
        "\n",
        "                                                                                # Step 5\n",
        "trLbl           = to_categorical(trLbl)\n",
        "tsLbl           = to_categorical(tsLbl)\n",
        "                               \n",
        "num_classes     = tsLbl.shape[1]                                                # Step 6"
      ],
      "execution_count": 5,
      "outputs": [
        {
          "output_type": "stream",
          "text": [
            "Downloading data from https://www.cs.toronto.edu/~kriz/cifar-10-python.tar.gz\n",
            "170500096/170498071 [==============================] - 2s 0us/step\n",
            "The shape of trDat is (50000, 32, 32, 3) and the type of trDat is uint8\n",
            "The shape of tsDat is (10000, 32, 32, 3) and the type of tsDat is uint8\n",
            "\n",
            "The shape of trLbl is (50000, 1) and the type of trLbl is uint8\n",
            "The shape of tsLbl is (10000, 1) and the type of tsLbl is uint8\n"
          ],
          "name": "stdout"
        }
      ]
    },
    {
      "cell_type": "markdown",
      "metadata": {
        "id": "DoP3WcoJW-jZ",
        "colab_type": "text"
      },
      "source": [
        "## **6. Define the resnet model (to be completed)**\n",
        "___\n",
        "* Step 1: Setup the optimizer to be used for training\n",
        "* Step 2: Set a name for the coming model (required for saving)\n",
        "* Step 3: Function to create layers for the resnet\n",
        "* Step 4: Function to create residual blocks\n",
        "* Step 5: Define the resnet model (to be completed)\n",
        "* Step 6: Create models for training and testing\n",
        "* Step 7: Display the summary of the model of interest "
      ]
    },
    {
      "cell_type": "code",
      "metadata": {
        "id": "0HMOes0kXCPd",
        "colab_type": "code",
        "colab": {
          "base_uri": "https://localhost:8080/",
          "height": 1000
        },
        "outputId": "9c01c715-93df-4528-c1f7-f5d5fee11449"
      },
      "source": [
        "optmz       = optimizers.Adam(lr=0.001)                                         # Step 1\n",
        "modelname   = 'cifar10ResV1Cfg5'                                                # Step 2\n",
        "\n",
        "                                                                                # Step 3\n",
        "def resLyr(inputs,\n",
        "           numFilters=16,\n",
        "           kernelSz=3,\n",
        "           strides=1,\n",
        "           activation='relu',\n",
        "           batchNorm=True,\n",
        "           convFirst=True,\n",
        "           lyrName=None):\n",
        "\n",
        "    convLyr     = Conv2D(numFilters,\n",
        "                         kernel_size=kernelSz,\n",
        "                         strides=strides,\n",
        "                         padding='same',\n",
        "                         kernel_initializer='he_normal',\n",
        "                         kernel_regularizer=l2(1e-4),\n",
        "                         name=lyrName+'_conv' if lyrName else None)\n",
        "    x           = inputs\n",
        "    \n",
        "    if convFirst:\n",
        "        x       = convLyr(x)\n",
        "        \n",
        "        if batchNorm:\n",
        "            x   = BatchNormalization(name=lyrName+'_bn' if lyrName else None)(x)\n",
        "            \n",
        "        if activation is not None:\n",
        "            x   = Activation(activation,\n",
        "                             name=lyrName+'_'+activation if lyrName else None)(x)\n",
        "    else:\n",
        "        if batchNorm:\n",
        "            x   = BatchNormalization(name=lyrName+'_bn' if lyrName else None)(x)\n",
        "            \n",
        "        if activation is not None:\n",
        "            x   = Activation(activation,\n",
        "                             name=lyrName+'_'+activation if lyrName else None)(x)\n",
        "            \n",
        "        x       = convLyr(x)\n",
        "    return x\n",
        "\n",
        "                                                                                # Step 4\n",
        "def resBlkV1(inputs,\n",
        "             numFilters=16,\n",
        "             numBlocks=3,\n",
        "             downsampleOnFirst=True,\n",
        "             names=None):\n",
        "    \n",
        "    x       = inputs\n",
        "    \n",
        "    for run in range(0,numBlocks):\n",
        "        strides = 1\n",
        "        blkStr  = str(run+1)\n",
        "        \n",
        "        if downsampleOnFirst and run == 0:\n",
        "            strides     = 2\n",
        "            \n",
        "        y       = resLyr(inputs=x,\n",
        "                         numFilters=numFilters,\n",
        "                         strides=strides,\n",
        "                         lyrName=names+'_Blk'+blkStr+'_Res1' if names else None)\n",
        "        y       = resLyr(inputs=y,\n",
        "                         numFilters=numFilters,\n",
        "                         activation=None,\n",
        "                         lyrName=names+'_Blk'+blkStr+'_Res2' if names else None)\n",
        "        \n",
        "        if downsampleOnFirst and run == 0:\n",
        "            x   = resLyr(inputs=x,\n",
        "                         numFilters=numFilters,\n",
        "                         kernelSz=1,\n",
        "                         strides=strides,\n",
        "                         activation=None,\n",
        "                         batchNorm=False,\n",
        "                         lyrName=names+'_Blk'+blkStr+'_lin' if names else None)\n",
        "\n",
        "        x       = add([x,y],\n",
        "                      name=names+'_Blk'+blkStr+'_add' if names else None)\n",
        "        x       = Activation('relu',\n",
        "                             name=names+'_Blk'+blkStr+'_relu' if names else None)(x)\n",
        "        \n",
        "    return x\n",
        "    \n",
        "                                                                                # Step 5\n",
        "def createResNetV1(inputShape=(32,32,3),\n",
        "                   numClasses=10):\n",
        "    inputs = Input(shape=inputShape)\n",
        "    v = resLyr(inputs,lyrName='Inpt')\n",
        "    v = resBlkV1(inputs=v,numFilters=16,numBlocks=3,\n",
        "                         downsampleOnFirst=False,\n",
        "                         names='Stg1')\n",
        "    v = resBlkV1(inputs=v,\n",
        "                         numFilters=32,\n",
        "                         numBlocks=3,\n",
        "                         downsampleOnFirst=True,\n",
        "                         names='Stg2')\n",
        "    v = resBlkV1(inputs=v,\n",
        "                         numFilters=64,\n",
        "                         numBlocks=3,\n",
        "                         downsampleOnFirst=True,\n",
        "                         names='Stg3')\n",
        "    v = AveragePooling2D(pool_size=8, name='AvgPool')(v)\n",
        "    v = Flatten()(v)\n",
        "    outputs = Dense(numClasses,\n",
        "                          activation='softmax',kernel_initializer='he_normal')(v)\n",
        "    model = Model(inputs=inputs,outputs=outputs)\n",
        "    model.compile(loss='categorical_crossentropy', optimizer=optmz,metrics=['accuracy'])\n",
        "    return model\n",
        "\n",
        "                                                                                # Step 6\n",
        "model       = createResNetV1()  # This is meant for training\n",
        "modelGo     = createResNetV1()  # This is used for final testing\n",
        "\n",
        "model.summary()                                                                 # Step 7"
      ],
      "execution_count": 6,
      "outputs": [
        {
          "output_type": "stream",
          "text": [
            "Model: \"model\"\n",
            "__________________________________________________________________________________________________\n",
            "Layer (type)                    Output Shape         Param #     Connected to                     \n",
            "==================================================================================================\n",
            "input_1 (InputLayer)            [(None, 32, 32, 3)]  0                                            \n",
            "__________________________________________________________________________________________________\n",
            "Inpt_conv (Conv2D)              (None, 32, 32, 16)   448         input_1[0][0]                    \n",
            "__________________________________________________________________________________________________\n",
            "Inpt_bn (BatchNormalization)    (None, 32, 32, 16)   64          Inpt_conv[0][0]                  \n",
            "__________________________________________________________________________________________________\n",
            "Inpt_relu (Activation)          (None, 32, 32, 16)   0           Inpt_bn[0][0]                    \n",
            "__________________________________________________________________________________________________\n",
            "Stg1_Blk1_Res1_conv (Conv2D)    (None, 32, 32, 16)   2320        Inpt_relu[0][0]                  \n",
            "__________________________________________________________________________________________________\n",
            "Stg1_Blk1_Res1_bn (BatchNormali (None, 32, 32, 16)   64          Stg1_Blk1_Res1_conv[0][0]        \n",
            "__________________________________________________________________________________________________\n",
            "Stg1_Blk1_Res1_relu (Activation (None, 32, 32, 16)   0           Stg1_Blk1_Res1_bn[0][0]          \n",
            "__________________________________________________________________________________________________\n",
            "Stg1_Blk1_Res2_conv (Conv2D)    (None, 32, 32, 16)   2320        Stg1_Blk1_Res1_relu[0][0]        \n",
            "__________________________________________________________________________________________________\n",
            "Stg1_Blk1_Res2_bn (BatchNormali (None, 32, 32, 16)   64          Stg1_Blk1_Res2_conv[0][0]        \n",
            "__________________________________________________________________________________________________\n",
            "Stg1_Blk1_add (Add)             (None, 32, 32, 16)   0           Inpt_relu[0][0]                  \n",
            "                                                                 Stg1_Blk1_Res2_bn[0][0]          \n",
            "__________________________________________________________________________________________________\n",
            "Stg1_Blk1_relu (Activation)     (None, 32, 32, 16)   0           Stg1_Blk1_add[0][0]              \n",
            "__________________________________________________________________________________________________\n",
            "Stg1_Blk2_Res1_conv (Conv2D)    (None, 32, 32, 16)   2320        Stg1_Blk1_relu[0][0]             \n",
            "__________________________________________________________________________________________________\n",
            "Stg1_Blk2_Res1_bn (BatchNormali (None, 32, 32, 16)   64          Stg1_Blk2_Res1_conv[0][0]        \n",
            "__________________________________________________________________________________________________\n",
            "Stg1_Blk2_Res1_relu (Activation (None, 32, 32, 16)   0           Stg1_Blk2_Res1_bn[0][0]          \n",
            "__________________________________________________________________________________________________\n",
            "Stg1_Blk2_Res2_conv (Conv2D)    (None, 32, 32, 16)   2320        Stg1_Blk2_Res1_relu[0][0]        \n",
            "__________________________________________________________________________________________________\n",
            "Stg1_Blk2_Res2_bn (BatchNormali (None, 32, 32, 16)   64          Stg1_Blk2_Res2_conv[0][0]        \n",
            "__________________________________________________________________________________________________\n",
            "Stg1_Blk2_add (Add)             (None, 32, 32, 16)   0           Stg1_Blk1_relu[0][0]             \n",
            "                                                                 Stg1_Blk2_Res2_bn[0][0]          \n",
            "__________________________________________________________________________________________________\n",
            "Stg1_Blk2_relu (Activation)     (None, 32, 32, 16)   0           Stg1_Blk2_add[0][0]              \n",
            "__________________________________________________________________________________________________\n",
            "Stg1_Blk3_Res1_conv (Conv2D)    (None, 32, 32, 16)   2320        Stg1_Blk2_relu[0][0]             \n",
            "__________________________________________________________________________________________________\n",
            "Stg1_Blk3_Res1_bn (BatchNormali (None, 32, 32, 16)   64          Stg1_Blk3_Res1_conv[0][0]        \n",
            "__________________________________________________________________________________________________\n",
            "Stg1_Blk3_Res1_relu (Activation (None, 32, 32, 16)   0           Stg1_Blk3_Res1_bn[0][0]          \n",
            "__________________________________________________________________________________________________\n",
            "Stg1_Blk3_Res2_conv (Conv2D)    (None, 32, 32, 16)   2320        Stg1_Blk3_Res1_relu[0][0]        \n",
            "__________________________________________________________________________________________________\n",
            "Stg1_Blk3_Res2_bn (BatchNormali (None, 32, 32, 16)   64          Stg1_Blk3_Res2_conv[0][0]        \n",
            "__________________________________________________________________________________________________\n",
            "Stg1_Blk3_add (Add)             (None, 32, 32, 16)   0           Stg1_Blk2_relu[0][0]             \n",
            "                                                                 Stg1_Blk3_Res2_bn[0][0]          \n",
            "__________________________________________________________________________________________________\n",
            "Stg1_Blk3_relu (Activation)     (None, 32, 32, 16)   0           Stg1_Blk3_add[0][0]              \n",
            "__________________________________________________________________________________________________\n",
            "Stg2_Blk1_Res1_conv (Conv2D)    (None, 16, 16, 32)   4640        Stg1_Blk3_relu[0][0]             \n",
            "__________________________________________________________________________________________________\n",
            "Stg2_Blk1_Res1_bn (BatchNormali (None, 16, 16, 32)   128         Stg2_Blk1_Res1_conv[0][0]        \n",
            "__________________________________________________________________________________________________\n",
            "Stg2_Blk1_Res1_relu (Activation (None, 16, 16, 32)   0           Stg2_Blk1_Res1_bn[0][0]          \n",
            "__________________________________________________________________________________________________\n",
            "Stg2_Blk1_Res2_conv (Conv2D)    (None, 16, 16, 32)   9248        Stg2_Blk1_Res1_relu[0][0]        \n",
            "__________________________________________________________________________________________________\n",
            "Stg2_Blk1_lin_conv (Conv2D)     (None, 16, 16, 32)   544         Stg1_Blk3_relu[0][0]             \n",
            "__________________________________________________________________________________________________\n",
            "Stg2_Blk1_Res2_bn (BatchNormali (None, 16, 16, 32)   128         Stg2_Blk1_Res2_conv[0][0]        \n",
            "__________________________________________________________________________________________________\n",
            "Stg2_Blk1_add (Add)             (None, 16, 16, 32)   0           Stg2_Blk1_lin_conv[0][0]         \n",
            "                                                                 Stg2_Blk1_Res2_bn[0][0]          \n",
            "__________________________________________________________________________________________________\n",
            "Stg2_Blk1_relu (Activation)     (None, 16, 16, 32)   0           Stg2_Blk1_add[0][0]              \n",
            "__________________________________________________________________________________________________\n",
            "Stg2_Blk2_Res1_conv (Conv2D)    (None, 16, 16, 32)   9248        Stg2_Blk1_relu[0][0]             \n",
            "__________________________________________________________________________________________________\n",
            "Stg2_Blk2_Res1_bn (BatchNormali (None, 16, 16, 32)   128         Stg2_Blk2_Res1_conv[0][0]        \n",
            "__________________________________________________________________________________________________\n",
            "Stg2_Blk2_Res1_relu (Activation (None, 16, 16, 32)   0           Stg2_Blk2_Res1_bn[0][0]          \n",
            "__________________________________________________________________________________________________\n",
            "Stg2_Blk2_Res2_conv (Conv2D)    (None, 16, 16, 32)   9248        Stg2_Blk2_Res1_relu[0][0]        \n",
            "__________________________________________________________________________________________________\n",
            "Stg2_Blk2_Res2_bn (BatchNormali (None, 16, 16, 32)   128         Stg2_Blk2_Res2_conv[0][0]        \n",
            "__________________________________________________________________________________________________\n",
            "Stg2_Blk2_add (Add)             (None, 16, 16, 32)   0           Stg2_Blk1_relu[0][0]             \n",
            "                                                                 Stg2_Blk2_Res2_bn[0][0]          \n",
            "__________________________________________________________________________________________________\n",
            "Stg2_Blk2_relu (Activation)     (None, 16, 16, 32)   0           Stg2_Blk2_add[0][0]              \n",
            "__________________________________________________________________________________________________\n",
            "Stg2_Blk3_Res1_conv (Conv2D)    (None, 16, 16, 32)   9248        Stg2_Blk2_relu[0][0]             \n",
            "__________________________________________________________________________________________________\n",
            "Stg2_Blk3_Res1_bn (BatchNormali (None, 16, 16, 32)   128         Stg2_Blk3_Res1_conv[0][0]        \n",
            "__________________________________________________________________________________________________\n",
            "Stg2_Blk3_Res1_relu (Activation (None, 16, 16, 32)   0           Stg2_Blk3_Res1_bn[0][0]          \n",
            "__________________________________________________________________________________________________\n",
            "Stg2_Blk3_Res2_conv (Conv2D)    (None, 16, 16, 32)   9248        Stg2_Blk3_Res1_relu[0][0]        \n",
            "__________________________________________________________________________________________________\n",
            "Stg2_Blk3_Res2_bn (BatchNormali (None, 16, 16, 32)   128         Stg2_Blk3_Res2_conv[0][0]        \n",
            "__________________________________________________________________________________________________\n",
            "Stg2_Blk3_add (Add)             (None, 16, 16, 32)   0           Stg2_Blk2_relu[0][0]             \n",
            "                                                                 Stg2_Blk3_Res2_bn[0][0]          \n",
            "__________________________________________________________________________________________________\n",
            "Stg2_Blk3_relu (Activation)     (None, 16, 16, 32)   0           Stg2_Blk3_add[0][0]              \n",
            "__________________________________________________________________________________________________\n",
            "Stg3_Blk1_Res1_conv (Conv2D)    (None, 8, 8, 64)     18496       Stg2_Blk3_relu[0][0]             \n",
            "__________________________________________________________________________________________________\n",
            "Stg3_Blk1_Res1_bn (BatchNormali (None, 8, 8, 64)     256         Stg3_Blk1_Res1_conv[0][0]        \n",
            "__________________________________________________________________________________________________\n",
            "Stg3_Blk1_Res1_relu (Activation (None, 8, 8, 64)     0           Stg3_Blk1_Res1_bn[0][0]          \n",
            "__________________________________________________________________________________________________\n",
            "Stg3_Blk1_Res2_conv (Conv2D)    (None, 8, 8, 64)     36928       Stg3_Blk1_Res1_relu[0][0]        \n",
            "__________________________________________________________________________________________________\n",
            "Stg3_Blk1_lin_conv (Conv2D)     (None, 8, 8, 64)     2112        Stg2_Blk3_relu[0][0]             \n",
            "__________________________________________________________________________________________________\n",
            "Stg3_Blk1_Res2_bn (BatchNormali (None, 8, 8, 64)     256         Stg3_Blk1_Res2_conv[0][0]        \n",
            "__________________________________________________________________________________________________\n",
            "Stg3_Blk1_add (Add)             (None, 8, 8, 64)     0           Stg3_Blk1_lin_conv[0][0]         \n",
            "                                                                 Stg3_Blk1_Res2_bn[0][0]          \n",
            "__________________________________________________________________________________________________\n",
            "Stg3_Blk1_relu (Activation)     (None, 8, 8, 64)     0           Stg3_Blk1_add[0][0]              \n",
            "__________________________________________________________________________________________________\n",
            "Stg3_Blk2_Res1_conv (Conv2D)    (None, 8, 8, 64)     36928       Stg3_Blk1_relu[0][0]             \n",
            "__________________________________________________________________________________________________\n",
            "Stg3_Blk2_Res1_bn (BatchNormali (None, 8, 8, 64)     256         Stg3_Blk2_Res1_conv[0][0]        \n",
            "__________________________________________________________________________________________________\n",
            "Stg3_Blk2_Res1_relu (Activation (None, 8, 8, 64)     0           Stg3_Blk2_Res1_bn[0][0]          \n",
            "__________________________________________________________________________________________________\n",
            "Stg3_Blk2_Res2_conv (Conv2D)    (None, 8, 8, 64)     36928       Stg3_Blk2_Res1_relu[0][0]        \n",
            "__________________________________________________________________________________________________\n",
            "Stg3_Blk2_Res2_bn (BatchNormali (None, 8, 8, 64)     256         Stg3_Blk2_Res2_conv[0][0]        \n",
            "__________________________________________________________________________________________________\n",
            "Stg3_Blk2_add (Add)             (None, 8, 8, 64)     0           Stg3_Blk1_relu[0][0]             \n",
            "                                                                 Stg3_Blk2_Res2_bn[0][0]          \n",
            "__________________________________________________________________________________________________\n",
            "Stg3_Blk2_relu (Activation)     (None, 8, 8, 64)     0           Stg3_Blk2_add[0][0]              \n",
            "__________________________________________________________________________________________________\n",
            "Stg3_Blk3_Res1_conv (Conv2D)    (None, 8, 8, 64)     36928       Stg3_Blk2_relu[0][0]             \n",
            "__________________________________________________________________________________________________\n",
            "Stg3_Blk3_Res1_bn (BatchNormali (None, 8, 8, 64)     256         Stg3_Blk3_Res1_conv[0][0]        \n",
            "__________________________________________________________________________________________________\n",
            "Stg3_Blk3_Res1_relu (Activation (None, 8, 8, 64)     0           Stg3_Blk3_Res1_bn[0][0]          \n",
            "__________________________________________________________________________________________________\n",
            "Stg3_Blk3_Res2_conv (Conv2D)    (None, 8, 8, 64)     36928       Stg3_Blk3_Res1_relu[0][0]        \n",
            "__________________________________________________________________________________________________\n",
            "Stg3_Blk3_Res2_bn (BatchNormali (None, 8, 8, 64)     256         Stg3_Blk3_Res2_conv[0][0]        \n",
            "__________________________________________________________________________________________________\n",
            "Stg3_Blk3_add (Add)             (None, 8, 8, 64)     0           Stg3_Blk2_relu[0][0]             \n",
            "                                                                 Stg3_Blk3_Res2_bn[0][0]          \n",
            "__________________________________________________________________________________________________\n",
            "Stg3_Blk3_relu (Activation)     (None, 8, 8, 64)     0           Stg3_Blk3_add[0][0]              \n",
            "__________________________________________________________________________________________________\n",
            "AvgPool (AveragePooling2D)      (None, 1, 1, 64)     0           Stg3_Blk3_relu[0][0]             \n",
            "__________________________________________________________________________________________________\n",
            "flatten (Flatten)               (None, 64)           0           AvgPool[0][0]                    \n",
            "__________________________________________________________________________________________________\n",
            "dense (Dense)                   (None, 10)           650         flatten[0][0]                    \n",
            "==================================================================================================\n",
            "Total params: 274,442\n",
            "Trainable params: 273,066\n",
            "Non-trainable params: 1,376\n",
            "__________________________________________________________________________________________________\n"
          ],
          "name": "stdout"
        }
      ]
    },
    {
      "cell_type": "markdown",
      "metadata": {
        "id": "DlquJEaFZxV9",
        "colab_type": "text"
      },
      "source": [
        "## **7. Create the callbacks to be applied during training**\n",
        "---\n",
        "* Step 1: Create a callback to save the model from an epoch when validation accuracy is the highest\n",
        "* Step 2: Create a callback to save the training loss, training accuracy, validation loss and validation accuracy of each epoch into a csv file\n",
        "* Step 3: Put the two callback objects into a list"
      ]
    },
    {
      "cell_type": "code",
      "metadata": {
        "id": "9-a1LSCbahKy",
        "colab_type": "code",
        "colab": {
          "base_uri": "https://localhost:8080/",
          "height": 136
        },
        "outputId": "864e8b84-cda6-4c86-8aba-ac3d69e2f0d4"
      },
      "source": [
        "                                                                                # Step 1\n",
        "def lrSchedule(epoch):\n",
        "    lr  = 1e-3\n",
        "    \n",
        "    if epoch > 160:\n",
        "        lr  *= 0.5e-3        \n",
        "    elif epoch > 140:\n",
        "        lr  *= 1e-3       \n",
        "    elif epoch > 120:\n",
        "        lr  *= 1e-2     \n",
        "    elif epoch > 80:\n",
        "        lr  *= 1e-1\n",
        "        \n",
        "    print('Learning rate: ', lr)\n",
        "    return lr\n",
        "\n",
        "LRScheduler     = LearningRateScheduler(lrSchedule)\n",
        "\n",
        "                                                                                # Step 2\n",
        "folderpath      = '/content/gdrive/My Drive/iss/prumls/colab/'\n",
        "filepath        = folderpath + modelname + \".hdf5\"\n",
        "checkpoint      = ModelCheckpoint(filepath, \n",
        "                                  monitor='val_accuracy', \n",
        "                                  verbose=0, \n",
        "                                  save_best_only=True, \n",
        "                                  mode='max')\n",
        "\n",
        "csv_logger      = CSVLogger(folderpath+modelname +'.csv')                       # Step 2\n",
        "callbacks_list  = [checkpoint,csv_logger,LRScheduler]                           # Step 3\n",
        "\n",
        "print(\"Callbacks created:\")\n",
        "print(callbacks_list[0])\n",
        "print(callbacks_list[1])\n",
        "print(callbacks_list[2])\n",
        "print('')\n",
        "print(\"Path to model:\", filepath)\n",
        "print(\"Path to log:  \", folderpath+modelname+'.csv')"
      ],
      "execution_count": 7,
      "outputs": [
        {
          "output_type": "stream",
          "text": [
            "Callbacks created:\n",
            "<tensorflow.python.keras.callbacks.ModelCheckpoint object at 0x7fd886bb6b38>\n",
            "<tensorflow.python.keras.callbacks.CSVLogger object at 0x7fd886bb6c18>\n",
            "<tensorflow.python.keras.callbacks.LearningRateScheduler object at 0x7fd890c8f898>\n",
            "\n",
            "Path to model: /content/gdrive/My Drive/iss/prumls/colab/cifar10ResV1Cfg5.hdf5\n",
            "Path to log:   /content/gdrive/My Drive/iss/prumls/colab/cifar10ResV1Cfg5.csv\n"
          ],
          "name": "stdout"
        }
      ]
    },
    {
      "cell_type": "markdown",
      "metadata": {
        "id": "1mKgjQsmfOBz",
        "colab_type": "text"
      },
      "source": [
        "## **8. Train the deep learning model with image augmentation (to be completed)**\n",
        "___\n",
        "* Step 1: Create the image data generator (for image augmentation)\n",
        "* Step 2: Train the model with generator"
      ]
    },
    {
      "cell_type": "code",
      "metadata": {
        "id": "23lUNwpGfV0A",
        "colab_type": "code",
        "colab": {
          "base_uri": "https://localhost:8080/",
          "height": 1000
        },
        "outputId": "e383859f-97e3-4773-859b-4e1d1ed8ecc9"
      },
      "source": [
        "                                                                                # Step 1\n",
        "from tensorflow.keras.preprocessing.image import ImageDataGenerator\n",
        "\n",
        "datagen = ImageDataGenerator(width_shift_range=0.1, height_shift_range=0.1,rotation_range=20, horizontal_flip=True, vertical_flip=False)\n",
        "\n",
        "model.fit_generator(datagen.flow(trDat, trLbl, batch_size=256), validation_data=(tsDat, tsLbl),epochs=50,verbose=1, steps_per_epoch=len(trDat)/256, callbacks=callbacks_list)\n",
        "\n",
        "                                                                                # Step 2\n",
        "\n"
      ],
      "execution_count": 12,
      "outputs": [
        {
          "output_type": "stream",
          "text": [
            "Learning rate:  0.001\n",
            "Epoch 1/50\n",
            "196/195 [==============================] - 655s 3s/step - loss: 1.5264 - accuracy: 0.4996 - val_loss: 1.6807 - val_accuracy: 0.4689 - lr: 0.0010\n",
            "Learning rate:  0.001\n",
            "Epoch 2/50\n",
            "196/195 [==============================] - 655s 3s/step - loss: 1.3393 - accuracy: 0.5725 - val_loss: 1.3598 - val_accuracy: 0.5661 - lr: 0.0010\n",
            "Learning rate:  0.001\n",
            "Epoch 3/50\n",
            "196/195 [==============================] - 655s 3s/step - loss: 1.2152 - accuracy: 0.6187 - val_loss: 1.4018 - val_accuracy: 0.5822 - lr: 0.0010\n",
            "Learning rate:  0.001\n",
            "Epoch 4/50\n",
            "196/195 [==============================] - 659s 3s/step - loss: 1.1240 - accuracy: 0.6526 - val_loss: 1.2694 - val_accuracy: 0.6223 - lr: 0.0010\n",
            "Learning rate:  0.001\n",
            "Epoch 5/50\n",
            "196/195 [==============================] - 656s 3s/step - loss: 1.0419 - accuracy: 0.6804 - val_loss: 1.2282 - val_accuracy: 0.6413 - lr: 0.0010\n",
            "Learning rate:  0.001\n",
            "Epoch 6/50\n",
            "196/195 [==============================] - 652s 3s/step - loss: 0.9723 - accuracy: 0.7067 - val_loss: 1.1668 - val_accuracy: 0.6468 - lr: 0.0010\n",
            "Learning rate:  0.001\n",
            "Epoch 7/50\n",
            "196/195 [==============================] - 652s 3s/step - loss: 0.9271 - accuracy: 0.7239 - val_loss: 0.9957 - val_accuracy: 0.7061 - lr: 0.0010\n",
            "Learning rate:  0.001\n",
            "Epoch 8/50\n",
            "196/195 [==============================] - 651s 3s/step - loss: 0.8752 - accuracy: 0.7425 - val_loss: 1.7213 - val_accuracy: 0.5562 - lr: 0.0010\n",
            "Learning rate:  0.001\n",
            "Epoch 9/50\n",
            "196/195 [==============================] - 651s 3s/step - loss: 0.8414 - accuracy: 0.7542 - val_loss: 1.0215 - val_accuracy: 0.7033 - lr: 0.0010\n",
            "Learning rate:  0.001\n",
            "Epoch 10/50\n",
            "196/195 [==============================] - 652s 3s/step - loss: 0.8096 - accuracy: 0.7649 - val_loss: 1.1552 - val_accuracy: 0.6623 - lr: 0.0010\n",
            "Learning rate:  0.001\n",
            "Epoch 11/50\n",
            "196/195 [==============================] - 654s 3s/step - loss: 0.7796 - accuracy: 0.7746 - val_loss: 1.5230 - val_accuracy: 0.6032 - lr: 0.0010\n",
            "Learning rate:  0.001\n",
            "Epoch 12/50\n",
            "196/195 [==============================] - 654s 3s/step - loss: 0.7540 - accuracy: 0.7856 - val_loss: 0.8690 - val_accuracy: 0.7566 - lr: 0.0010\n",
            "Learning rate:  0.001\n",
            "Epoch 13/50\n",
            "196/195 [==============================] - 657s 3s/step - loss: 0.7336 - accuracy: 0.7916 - val_loss: 0.9616 - val_accuracy: 0.7260 - lr: 0.0010\n",
            "Learning rate:  0.001\n",
            "Epoch 14/50\n",
            "196/195 [==============================] - 655s 3s/step - loss: 0.7113 - accuracy: 0.8005 - val_loss: 0.9339 - val_accuracy: 0.7347 - lr: 0.0010\n",
            "Learning rate:  0.001\n",
            "Epoch 15/50\n",
            "196/195 [==============================] - 658s 3s/step - loss: 0.6929 - accuracy: 0.8077 - val_loss: 0.9843 - val_accuracy: 0.7309 - lr: 0.0010\n",
            "Learning rate:  0.001\n",
            "Epoch 16/50\n",
            "196/195 [==============================] - 656s 3s/step - loss: 0.6744 - accuracy: 0.8099 - val_loss: 1.1051 - val_accuracy: 0.6976 - lr: 0.0010\n",
            "Learning rate:  0.001\n",
            "Epoch 17/50\n",
            "196/195 [==============================] - 657s 3s/step - loss: 0.6595 - accuracy: 0.8163 - val_loss: 0.9988 - val_accuracy: 0.7247 - lr: 0.0010\n",
            "Learning rate:  0.001\n",
            "Epoch 18/50\n",
            "196/195 [==============================] - 654s 3s/step - loss: 0.6487 - accuracy: 0.8212 - val_loss: 0.9159 - val_accuracy: 0.7510 - lr: 0.0010\n",
            "Learning rate:  0.001\n",
            "Epoch 19/50\n",
            "196/195 [==============================] - 657s 3s/step - loss: 0.6348 - accuracy: 0.8248 - val_loss: 1.0721 - val_accuracy: 0.7123 - lr: 0.0010\n",
            "Learning rate:  0.001\n",
            "Epoch 20/50\n",
            "196/195 [==============================] - 656s 3s/step - loss: 0.6241 - accuracy: 0.8311 - val_loss: 0.9386 - val_accuracy: 0.7450 - lr: 0.0010\n",
            "Learning rate:  0.001\n",
            "Epoch 21/50\n",
            "196/195 [==============================] - 660s 3s/step - loss: 0.6090 - accuracy: 0.8354 - val_loss: 0.8660 - val_accuracy: 0.7608 - lr: 0.0010\n",
            "Learning rate:  0.001\n",
            "Epoch 22/50\n",
            "196/195 [==============================] - 653s 3s/step - loss: 0.5970 - accuracy: 0.8387 - val_loss: 0.7896 - val_accuracy: 0.7871 - lr: 0.0010\n",
            "Learning rate:  0.001\n",
            "Epoch 23/50\n",
            "196/195 [==============================] - 650s 3s/step - loss: 0.5942 - accuracy: 0.8419 - val_loss: 0.8470 - val_accuracy: 0.7726 - lr: 0.0010\n",
            "Learning rate:  0.001\n",
            "Epoch 24/50\n",
            "196/195 [==============================] - 651s 3s/step - loss: 0.5763 - accuracy: 0.8464 - val_loss: 0.8861 - val_accuracy: 0.7722 - lr: 0.0010\n",
            "Learning rate:  0.001\n",
            "Epoch 25/50\n",
            "196/195 [==============================] - 653s 3s/step - loss: 0.5712 - accuracy: 0.8483 - val_loss: 1.3183 - val_accuracy: 0.6807 - lr: 0.0010\n",
            "Learning rate:  0.001\n",
            "Epoch 26/50\n",
            "196/195 [==============================] - 656s 3s/step - loss: 0.5605 - accuracy: 0.8525 - val_loss: 1.2525 - val_accuracy: 0.6963 - lr: 0.0010\n",
            "Learning rate:  0.001\n",
            "Epoch 27/50\n",
            "196/195 [==============================] - 655s 3s/step - loss: 0.5517 - accuracy: 0.8541 - val_loss: 0.8683 - val_accuracy: 0.7722 - lr: 0.0010\n",
            "Learning rate:  0.001\n",
            "Epoch 28/50\n",
            "196/195 [==============================] - 654s 3s/step - loss: 0.5497 - accuracy: 0.8539 - val_loss: 0.7674 - val_accuracy: 0.7926 - lr: 0.0010\n",
            "Learning rate:  0.001\n",
            "Epoch 29/50\n",
            "196/195 [==============================] - 657s 3s/step - loss: 0.5398 - accuracy: 0.8576 - val_loss: 1.2685 - val_accuracy: 0.6721 - lr: 0.0010\n",
            "Learning rate:  0.001\n",
            "Epoch 30/50\n",
            "196/195 [==============================] - 658s 3s/step - loss: 0.5335 - accuracy: 0.8605 - val_loss: 0.8602 - val_accuracy: 0.7771 - lr: 0.0010\n",
            "Learning rate:  0.001\n",
            "Epoch 31/50\n",
            "196/195 [==============================] - 657s 3s/step - loss: 0.5276 - accuracy: 0.8624 - val_loss: 0.7475 - val_accuracy: 0.7996 - lr: 0.0010\n",
            "Learning rate:  0.001\n",
            "Epoch 32/50\n",
            "196/195 [==============================] - 654s 3s/step - loss: 0.5205 - accuracy: 0.8634 - val_loss: 0.8362 - val_accuracy: 0.7764 - lr: 0.0010\n",
            "Learning rate:  0.001\n",
            "Epoch 33/50\n",
            "196/195 [==============================] - 653s 3s/step - loss: 0.5149 - accuracy: 0.8675 - val_loss: 0.7729 - val_accuracy: 0.8012 - lr: 0.0010\n",
            "Learning rate:  0.001\n",
            "Epoch 34/50\n",
            "196/195 [==============================] - 654s 3s/step - loss: 0.5109 - accuracy: 0.8687 - val_loss: 0.7777 - val_accuracy: 0.7953 - lr: 0.0010\n",
            "Learning rate:  0.001\n",
            "Epoch 35/50\n",
            "196/195 [==============================] - 656s 3s/step - loss: 0.5020 - accuracy: 0.8725 - val_loss: 0.8157 - val_accuracy: 0.7805 - lr: 0.0010\n",
            "Learning rate:  0.001\n",
            "Epoch 36/50\n",
            "196/195 [==============================] - 658s 3s/step - loss: 0.4963 - accuracy: 0.8729 - val_loss: 0.9564 - val_accuracy: 0.7549 - lr: 0.0010\n",
            "Learning rate:  0.001\n",
            "Epoch 37/50\n",
            "196/195 [==============================] - 652s 3s/step - loss: 0.4956 - accuracy: 0.8736 - val_loss: 0.9352 - val_accuracy: 0.7573 - lr: 0.0010\n",
            "Learning rate:  0.001\n",
            "Epoch 38/50\n",
            "196/195 [==============================] - 656s 3s/step - loss: 0.4916 - accuracy: 0.8753 - val_loss: 0.7609 - val_accuracy: 0.8017 - lr: 0.0010\n",
            "Learning rate:  0.001\n",
            "Epoch 39/50\n",
            "196/195 [==============================] - 655s 3s/step - loss: 0.4895 - accuracy: 0.8759 - val_loss: 0.9200 - val_accuracy: 0.7580 - lr: 0.0010\n",
            "Learning rate:  0.001\n",
            "Epoch 40/50\n",
            "196/195 [==============================] - 659s 3s/step - loss: 0.4761 - accuracy: 0.8794 - val_loss: 0.8891 - val_accuracy: 0.7773 - lr: 0.0010\n",
            "Learning rate:  0.001\n",
            "Epoch 41/50\n",
            "196/195 [==============================] - 648s 3s/step - loss: 0.4799 - accuracy: 0.8782 - val_loss: 0.6455 - val_accuracy: 0.8310 - lr: 0.0010\n",
            "Learning rate:  0.001\n",
            "Epoch 42/50\n",
            "196/195 [==============================] - 648s 3s/step - loss: 0.4740 - accuracy: 0.8818 - val_loss: 0.6709 - val_accuracy: 0.8285 - lr: 0.0010\n",
            "Learning rate:  0.001\n",
            "Epoch 43/50\n",
            "196/195 [==============================] - 648s 3s/step - loss: 0.4696 - accuracy: 0.8820 - val_loss: 0.8875 - val_accuracy: 0.7723 - lr: 0.0010\n",
            "Learning rate:  0.001\n",
            "Epoch 44/50\n",
            "196/195 [==============================] - 651s 3s/step - loss: 0.4662 - accuracy: 0.8847 - val_loss: 0.7058 - val_accuracy: 0.8168 - lr: 0.0010\n",
            "Learning rate:  0.001\n",
            "Epoch 45/50\n",
            "196/195 [==============================] - 652s 3s/step - loss: 0.4656 - accuracy: 0.8829 - val_loss: 0.7581 - val_accuracy: 0.8070 - lr: 0.0010\n",
            "Learning rate:  0.001\n",
            "Epoch 46/50\n",
            "196/195 [==============================] - 657s 3s/step - loss: 0.4617 - accuracy: 0.8853 - val_loss: 0.7731 - val_accuracy: 0.7965 - lr: 0.0010\n",
            "Learning rate:  0.001\n",
            "Epoch 47/50\n",
            "196/195 [==============================] - 656s 3s/step - loss: 0.4554 - accuracy: 0.8882 - val_loss: 0.7887 - val_accuracy: 0.7959 - lr: 0.0010\n",
            "Learning rate:  0.001\n",
            "Epoch 48/50\n",
            "196/195 [==============================] - 649s 3s/step - loss: 0.4555 - accuracy: 0.8872 - val_loss: 0.8530 - val_accuracy: 0.7862 - lr: 0.0010\n",
            "Learning rate:  0.001\n",
            "Epoch 49/50\n",
            "196/195 [==============================] - 648s 3s/step - loss: 0.4437 - accuracy: 0.8911 - val_loss: 0.6177 - val_accuracy: 0.8463 - lr: 0.0010\n",
            "Learning rate:  0.001\n",
            "Epoch 50/50\n",
            "196/195 [==============================] - 649s 3s/step - loss: 0.4395 - accuracy: 0.8928 - val_loss: 0.7450 - val_accuracy: 0.8084 - lr: 0.0010\n"
          ],
          "name": "stdout"
        },
        {
          "output_type": "execute_result",
          "data": {
            "text/plain": [
              "<tensorflow.python.keras.callbacks.History at 0x7fd831425390>"
            ]
          },
          "metadata": {
            "tags": []
          },
          "execution_count": 12
        }
      ]
    },
    {
      "cell_type": "markdown",
      "metadata": {
        "id": "TevfJTd-s0nk",
        "colab_type": "text"
      },
      "source": [
        "## **9. Validate the deep learning model**\n",
        "---\n",
        "* Step 1: Load the trained weights and compile the model\n",
        "* Step 2: Make prediction\n"
      ]
    },
    {
      "cell_type": "code",
      "metadata": {
        "id": "2sVtWmcVtiV5",
        "colab_type": "code",
        "colab": {
          "base_uri": "https://localhost:8080/",
          "height": 34
        },
        "outputId": "b2db1b8c-02f5-4538-dfc8-1b11fcf13219"
      },
      "source": [
        "                                                                                # Step 1\n",
        "modelGo.load_weights(filepath)\n",
        "modelGo.compile(loss='categorical_crossentropy', \n",
        "                optimizer=optmz, \n",
        "                metrics=['accuracy'])\n",
        "\n",
        "predicts    = modelGo.predict(tsDat)                                            # Step 2\n",
        "print(\"Prediction completes.\")"
      ],
      "execution_count": 13,
      "outputs": [
        {
          "output_type": "stream",
          "text": [
            "Prediction completes.\n"
          ],
          "name": "stdout"
        }
      ]
    },
    {
      "cell_type": "markdown",
      "metadata": {
        "id": "0aOCUljp5qq4",
        "colab_type": "text"
      },
      "source": [
        "## **10. Report classification metrics**\n",
        "---\n",
        "* Step 1: Setup the label\n",
        "* Step 2: Convert label from one-hot to integer\n",
        "* Step 3: Calculate the accuracy score\n",
        "* Step 4: Generate classification report"
      ]
    },
    {
      "cell_type": "code",
      "metadata": {
        "id": "2tI4hBmk5uRh",
        "colab_type": "code",
        "colab": {
          "base_uri": "https://localhost:8080/",
          "height": 323
        },
        "outputId": "63334d0b-2f92-43b1-f935-44c0bc49e9bc"
      },
      "source": [
        "                                                                                # Step 1\n",
        "labelname   = ['airplane',          # The label for reporting metrics\n",
        "               'automobile',\n",
        "               'bird',\n",
        "               'cat',\n",
        "               'deer',\n",
        "               'dog',\n",
        "               'frog',\n",
        "               'horse',\n",
        "               'ship',\n",
        "               'truck']\n",
        "                                                                                # Step 2\n",
        "predout     = np.argmax(predicts,axis=1)\n",
        "testout     = np.argmax(tsLbl,axis=1)\n",
        "\n",
        "testScores  = metrics.accuracy_score(testout,predout)                           # Step 3\n",
        "\n",
        "                                                                                # Step 4\n",
        "print(\"Best accuracy (on testing dataset): %.2f%%\" % (testScores*100))\n",
        "print(metrics.classification_report(testout,\n",
        "                                    predout,\n",
        "                                    target_names=labelname,\n",
        "                                    digits=4))"
      ],
      "execution_count": 14,
      "outputs": [
        {
          "output_type": "stream",
          "text": [
            "Best accuracy (on testing dataset): 84.63%\n",
            "              precision    recall  f1-score   support\n",
            "\n",
            "    airplane     0.8663    0.8550    0.8606      1000\n",
            "  automobile     0.9420    0.9090    0.9252      1000\n",
            "        bird     0.9361    0.6740    0.7837      1000\n",
            "         cat     0.6226    0.8100    0.7040      1000\n",
            "        deer     0.8507    0.8660    0.8583      1000\n",
            "         dog     0.8932    0.6440    0.7484      1000\n",
            "        frog     0.8344    0.9170    0.8737      1000\n",
            "       horse     0.8873    0.9050    0.8960      1000\n",
            "        ship     0.8966    0.9280    0.9120      1000\n",
            "       truck     0.8422    0.9550    0.8950      1000\n",
            "\n",
            "    accuracy                         0.8463     10000\n",
            "   macro avg     0.8571    0.8463    0.8457     10000\n",
            "weighted avg     0.8571    0.8463    0.8457     10000\n",
            "\n"
          ],
          "name": "stdout"
        }
      ]
    },
    {
      "cell_type": "markdown",
      "metadata": {
        "id": "gEK_4UXN6IVa",
        "colab_type": "text"
      },
      "source": [
        "## **11. Print confusion matrix**\n",
        "---"
      ]
    },
    {
      "cell_type": "code",
      "metadata": {
        "id": "UCBJCYp26L1t",
        "colab_type": "code",
        "colab": {
          "base_uri": "https://localhost:8080/",
          "height": 187
        },
        "outputId": "38365f31-20d8-4358-abcc-1e50f275e723"
      },
      "source": [
        "confusion   = metrics.confusion_matrix(testout,predout)\n",
        "print(confusion)"
      ],
      "execution_count": 15,
      "outputs": [
        {
          "output_type": "stream",
          "text": [
            "[[855  13   9  14  23   1   4   5  50  26]\n",
            " [  8 909   0   0   1   0   2   1  15  64]\n",
            " [ 57   5 674  85  45  22  57  28  10  17]\n",
            " [ 10   5   7 810  30  47  45  21  10  15]\n",
            " [  2   1   7  68 866   1  32  22   0   1]\n",
            " [  6   4  14 223  22 644  32  31   7  17]\n",
            " [  4   3   4  49   7   0 917   4   4   8]\n",
            " [  8   0   4  38  23   6   7 905   2   7]\n",
            " [ 27   7   1   8   1   0   3   1 928  24]\n",
            " [ 10  18   0   6   0   0   0   2   9 955]]\n"
          ],
          "name": "stdout"
        }
      ]
    },
    {
      "cell_type": "markdown",
      "metadata": {
        "id": "2QMIDPD46UGT",
        "colab_type": "text"
      },
      "source": [
        "## **12. Plot curves on validation loss and accuracy**\n",
        "---"
      ]
    },
    {
      "cell_type": "code",
      "metadata": {
        "id": "qr2ZbvUi6YHf",
        "colab_type": "code",
        "colab": {
          "base_uri": "https://localhost:8080/",
          "height": 443
        },
        "outputId": "5a2a2878-27ad-4dba-c8f8-cc36761f634f"
      },
      "source": [
        "records     = pd.read_csv(folderpath+modelname +'.csv')\n",
        "plt.figure()\n",
        "plt.subplot(211)\n",
        "plt.plot(records['val_loss'], label=\"validation\")\n",
        "plt.plot(records['loss'],label=\"training\")\n",
        "plt.yticks([0.00,0.50,1.00,1.50])\n",
        "plt.title('Loss value',fontsize=12)\n",
        "\n",
        "ax          = plt.gca()\n",
        "ax.set_xticklabels([])\n",
        "\n",
        "plt.subplot(212)\n",
        "plt.plot(records['val_accuracy'],label=\"validation\")\n",
        "plt.plot(records['accuracy'],label=\"training\")\n",
        "plt.yticks([0.5,0.6,0.7,0.8])\n",
        "plt.title('Accuracy',fontsize=12)\n",
        "ax.legend()\n",
        "plt.show()"
      ],
      "execution_count": 16,
      "outputs": [
        {
          "output_type": "display_data",
          "data": {
            "image/png": "[encoded data removed]",
            "text/plain": [
              "<Figure size 504x504 with 2 Axes>"
            ]
          },
          "metadata": {
            "tags": []
          }
        }
      ]
    },
    {
      "cell_type": "markdown",
      "metadata": {
        "id": "PWoTz-bLug3X",
        "colab_type": "text"
      },
      "source": [
        "## **13. Save the model plot**\n",
        "---"
      ]
    },
    {
      "cell_type": "code",
      "metadata": {
        "id": "Tz1YfuV1ujcE",
        "colab_type": "code",
        "colab": {
          "base_uri": "https://localhost:8080/",
          "height": 34
        },
        "outputId": "8c7ae20e-4f21-4396-cb97-a1296e40d52f"
      },
      "source": [
        "plotpath  = folderpath+modelname+'_plot.png'\n",
        "plot_model(model, \n",
        "           to_file=plotpath, \n",
        "           show_shapes=True, \n",
        "           show_layer_names=False,\n",
        "           rankdir='TB')\n",
        "\n",
        "print(\"Path to plot:\", plotpath)"
      ],
      "execution_count": 17,
      "outputs": [
        {
          "output_type": "stream",
          "text": [
            "Path to plot: /content/gdrive/My Drive/iss/prumls/colab/cifar10ResV1Cfg5_plot.png\n"
          ],
          "name": "stdout"
        }
      ]
    }
  ]
}